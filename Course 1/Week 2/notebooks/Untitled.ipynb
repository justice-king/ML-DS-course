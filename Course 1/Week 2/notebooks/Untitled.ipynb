{
 "cells": [
  {
   "cell_type": "code",
   "execution_count": 35,
   "metadata": {},
   "outputs": [],
   "source": [
    "import numpy as np\n",
    "import scipy\n",
    "import pandas\n",
    "import re\n",
    "from scipy import spatial\n",
    "import math"
   ]
  },
  {
   "cell_type": "code",
   "execution_count": 73,
   "metadata": {},
   "outputs": [],
   "source": [
    "sentences = [Str.lower() for Str in open(\"qwe.txt\", 'r').readlines()]"
   ]
  },
  {
   "cell_type": "code",
   "execution_count": 74,
   "metadata": {},
   "outputs": [],
   "source": [
    "words = []\n",
    "newsentences = []\n",
    "for Str in sentences:\n",
    "    cur = [i for i in re.split('[^a-z]', Str) if len(i) > 0]\n",
    "    words += cur\n",
    "    newsentences.append(cur);  \n",
    "\n",
    "words = set(words)\n",
    "sentences = newsentences\n"
   ]
  },
  {
   "cell_type": "code",
   "execution_count": 75,
   "metadata": {},
   "outputs": [],
   "source": [
    "cnt = []\n",
    "for sentence in sentences:\n",
    "    cnt.append([sentence.count(i) for i in words]);"
   ]
  },
  {
   "cell_type": "code",
   "execution_count": 98,
   "metadata": {},
   "outputs": [],
   "source": [
    "ans = [(scipy.spatial.distance.cosine(cnt[i], cnt[0]), i) for i in range(1, 22)]\n",
    "ans.sort()\n",
    "global str\n",
    "s = str(ans[0][1]) + \" \" + str(ans[1][1]) \n",
    "file = open(\"ans.txt\", \"w\")\n",
    "file.write(s)"
   ]
  },
  {
   "cell_type": "code",
   "execution_count": 91,
   "metadata": {},
   "outputs": [
    {
     "data": {
      "text/plain": [
       "array([ 4.36264154, -1.29552587,  0.19333685, -0.00823565])"
      ]
     },
     "execution_count": 91,
     "metadata": {},
     "output_type": "execute_result"
    }
   ],
   "source": [
    "def f(x):\n",
    "    return math.sin(float(x) / 5.0) * math.exp(float(x) / 10.0) + 5 * math.exp(float(-x) / 2.0)\n",
    "a = np.array([[1.0, 1.0, 1.0, 1.0],[1.0, 4.0, 4.0**2, 4.0**3], [1.0, 10.0, 10.0**2, 10.0**3], [1.0, 15.0, 15.0**2, 15.0**3]])\n",
    "b = np.array([f(1), f(4), f(10), f(15)])\n",
    "x = np.linalg.solve(a, b)\n",
    "x"
   ]
  },
  {
   "cell_type": "code",
   "execution_count": 39,
   "metadata": {},
   "outputs": [
    {
     "data": {
      "text/plain": [
       "[<matplotlib.lines.Line2D at 0x61dbad2d0>]"
      ]
     },
     "execution_count": 39,
     "metadata": {},
     "output_type": "execute_result"
    },
    {
     "data": {
      "image/png": "[encoded data removed]",
      "text/plain": [
       "<matplotlib.figure.Figure at 0x61da41b90>"
      ]
     },
     "metadata": {},
     "output_type": "display_data"
    }
   ],
   "source": [
    "from matplotlib import pylab as plt\n",
    "x = np.arange(1, 15, 0.1)\n",
    "y = [f(i) for i in x]\n",
    "plt.plot(x, y)"
   ]
  },
  {
   "cell_type": "code",
   "execution_count": 63,
   "metadata": {},
   "outputs": [
    {
     "name": "stdout",
     "output_type": "stream",
     "text": [
      "[1.74684584]\n",
      "1.74684594959\n"
     ]
    }
   ],
   "source": [
    "a = np.array([[1, 1, 1, 1],[1, 4, 4**2, 4**3], [1, 8, 8**2, 8**3], [1, 15, 15**2, 15**3]])\n",
    "b = np.array([f(1), f(4), f(10), f(15)])\n",
    "x = np.linalg.solve(a, b)"
   ]
  },
  {
   "cell_type": "code",
   "execution_count": 51,
   "metadata": {},
   "outputs": [
    {
     "data": {
      "text/plain": [
       "[<matplotlib.lines.Line2D at 0x61dc16ed0>]"
      ]
     },
     "execution_count": 51,
     "metadata": {},
     "output_type": "execute_result"
    },
    {
     "data": {
      "image/png": "[encoded data removed]",
      "text/plain": [
       "<matplotlib.figure.Figure at 0x61d839650>"
      ]
     },
     "metadata": {},
     "output_type": "display_data"
    }
   ],
   "source": [
    "y = [1, 4, 10, 15]\n",
    "x\n",
    "plt.plot(y, x)"
   ]
  },
  {
   "cell_type": "code",
   "execution_count": 66,
   "metadata": {},
   "outputs": [],
   "source": [
    "File = open(\"ans1.txt\", \"w\")\n",
    "File.write(str(x))"
   ]
  },
  {
   "cell_type": "code",
   "execution_count": null,
   "metadata": {},
   "outputs": [],
   "source": []
  }
 ],
 "metadata": {
  "kernelspec": {
   "display_name": "Python 2",
   "language": "python",
   "name": "python2"
  },
  "language_info": {
   "codemirror_mode": {
    "name": "ipython",
    "version": 2
   },
   "file_extension": ".py",
   "mimetype": "text/x-python",
   "name": "python",
   "nbconvert_exporter": "python",
   "pygments_lexer": "ipython2",
   "version": "2.7.14"
  }
 },
 "nbformat": 4,
 "nbformat_minor": 2
}
